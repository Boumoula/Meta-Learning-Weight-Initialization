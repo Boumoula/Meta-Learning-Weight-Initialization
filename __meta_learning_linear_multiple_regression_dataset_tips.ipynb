{
  "cells": [
    {
      "cell_type": "markdown",
      "id": "9b4cc956",
      "metadata": {
        "id": "9b4cc956"
      },
      "source": [
        "### Imports et configuration de base"
      ]
    },
    {
      "cell_type": "code",
      "execution_count": 1,
      "id": "afe3fd26",
      "metadata": {
        "id": "afe3fd26"
      },
      "outputs": [],
      "source": [
        "\n",
        "import numpy as np\n",
        "import pandas as pd\n",
        "import seaborn as sns\n",
        "from sklearn.ensemble import RandomForestRegressor\n",
        "from sklearn.svm import SVR\n",
        "from sklearn.preprocessing import StandardScaler\n",
        "from sklearn.model_selection import train_test_split\n",
        "import matplotlib.pyplot as plt\n"
      ]
    },
    {
      "cell_type": "markdown",
      "id": "90d95b2d",
      "metadata": {
        "id": "90d95b2d"
      },
      "source": [
        "### Préparation du dataset"
      ]
    },
    {
      "cell_type": "code",
      "execution_count": 2,
      "id": "3e7e14c0",
      "metadata": {
        "id": "3e7e14c0"
      },
      "outputs": [],
      "source": [
        "def prepare_tips_dataset(n_datasets=500):\n",
        "    import seaborn as sns\n",
        "    import pandas as pd\n",
        "    import numpy as np\n",
        "\n",
        "    tips = sns.load_dataset('tips')\n",
        "\n",
        "    # Explicit type conversion for each column\n",
        "    tips['total_bill'] = tips['total_bill'].astype(np.float64)\n",
        "    tips['tip'] = tips['tip'].astype(np.float64)\n",
        "    tips['size'] = tips['size'].astype(np.int32)\n",
        "\n",
        "    # Manual encoding with explicit types\n",
        "    tips['sex'] = tips['sex'].map({'Female': 1, 'Male': 0}).astype(np.int32)\n",
        "    tips['smoker'] = tips['smoker'].map({'Yes': 1, 'No': 0}).astype(np.int32)\n",
        "    tips['time'] = tips['time'].map({'Dinner': 1, 'Lunch': 0}).astype(np.int32)\n",
        "    tips['day'] = tips['day'].map({\n",
        "        'Thur': 0,\n",
        "        'Fri': 1,\n",
        "        'Sat': 2,\n",
        "        'Sun': 3\n",
        "    }).astype(np.int32)\n",
        "\n",
        "    feature_cols = ['sex', 'smoker', 'day', 'time', 'size', 'tip']\n",
        "    X = tips[feature_cols]\n",
        "    y = tips['total_bill']\n",
        "\n",
        "    return X.values, y.values\n",
        "\n"
      ]
    },
    {
      "cell_type": "markdown",
      "id": "14ee472d",
      "metadata": {
        "id": "14ee472d"
      },
      "source": [
        "### Extraction des méta-caractéristiques"
      ]
    },
    {
      "cell_type": "code",
      "execution_count": 3,
      "id": "3d3a3158",
      "metadata": {
        "id": "3d3a3158"
      },
      "outputs": [],
      "source": [
        "\n",
        "def extract_meta_features_multi(X, y):\n",
        "    meta_features = []\n",
        "    for i in range(X.shape[1]):\n",
        "        x_col = X[:, i]\n",
        "        std_val = np.std(x_col)\n",
        "        if std_val == 0 or np.isnan(std_val):\n",
        "            skewness = 0\n",
        "            correlation = 0\n",
        "        else:\n",
        "            skewness = np.mean(((x_col - np.mean(x_col)) / std_val)**3)\n",
        "            correlation = np.corrcoef(x_col, y)[0, 1]\n",
        "        meta_features.append({\n",
        "            'Feature': f'X{i}',\n",
        "            'mean': np.mean(x_col),\n",
        "            'std': std_val,\n",
        "            'range': np.max(x_col) - np.min(x_col),\n",
        "            'skew': skewness,\n",
        "            'correlation_with_y': correlation\n",
        "        })\n",
        "    y_std = np.std(y)\n",
        "    y_skewness = 0 if y_std == 0 else np.mean(((y - np.mean(y)) / y_std)**3)\n",
        "    meta_features.append({\n",
        "        'Feature': 'y',\n",
        "        'mean': np.mean(y),\n",
        "        'std': y_std,\n",
        "        'range': np.max(y) - np.min(y),\n",
        "        'skew': y_skewness,\n",
        "        'correlation_with_y': None\n",
        "    })\n",
        "    return pd.DataFrame(meta_features)\n"
      ]
    },
    {
      "cell_type": "markdown",
      "id": "bfd57ee1",
      "metadata": {
        "id": "bfd57ee1"
      },
      "source": [
        "### Classe AdvancedMetaLearner"
      ]
    },
    {
      "cell_type": "code",
      "execution_count": 4,
      "id": "b2e77584",
      "metadata": {
        "id": "b2e77584"
      },
      "outputs": [],
      "source": [
        "\n",
        "class AdvancedMetaLearner:\n",
        "    def __init__(self, model_type='rf', n_features=2):\n",
        "        self.model_type = model_type\n",
        "        self.n_features = n_features\n",
        "        self.scaler = StandardScaler()\n",
        "        self.models = [\n",
        "            RandomForestRegressor(n_estimators=100, max_depth=10) if model_type == 'rf' else SVR(kernel='rbf', C=1.0, epsilon=0.1)\n",
        "            for _ in range(n_features + 1)\n",
        "        ]\n",
        "\n",
        "    def train(self, meta_features, optimal_params):\n",
        "        meta_features = np.nan_to_num(meta_features)\n",
        "        X_scaled = self.scaler.fit_transform(meta_features)\n",
        "        for i in range(self.n_features + 1):\n",
        "            self.models[i].fit(X_scaled, optimal_params[:, i])\n",
        "\n",
        "    def predict(self, meta_features):\n",
        "        meta_features = np.nan_to_num(meta_features)\n",
        "        X_scaled = self.scaler.transform(meta_features.reshape(1, -1))\n",
        "        return [model.predict(X_scaled)[0] for model in self.models]\n"
      ]
    },
    {
      "cell_type": "markdown",
      "id": "6806a7a6",
      "metadata": {
        "id": "6806a7a6"
      },
      "source": [
        "### Évaluation du système de méta-apprentissage"
      ]
    },
    {
      "cell_type": "code",
      "execution_count": 5,
      "id": "8817914d",
      "metadata": {
        "id": "8817914d"
      },
      "outputs": [],
      "source": [
        "\n",
        "def evaluate_meta_learning_system():\n",
        "    X_full, y_full = prepare_tips_dataset()\n",
        "    n_features = X_full.shape[1]\n",
        "    meta_features, optimal_params = [], []\n",
        "    n_samples = len(X_full)\n",
        "    subset_size = n_samples // 10\n",
        "\n",
        "    for i in range(0, n_samples, subset_size):\n",
        "        X_subset = X_full[i:i+subset_size]\n",
        "        y_subset = y_full[i:i+subset_size]\n",
        "        meta = extract_meta_features_multi(X_subset, y_subset)\n",
        "        meta_values = meta.iloc[:-1, 1:].values.flatten()\n",
        "        if not np.any(np.isnan(meta_values)):\n",
        "            meta_features.append(meta_values)\n",
        "            coefficients = np.random.uniform(0.5, 2.0, size=n_features)\n",
        "            b = np.random.uniform(0.5, 2.0)\n",
        "            optimal_params.append(np.append(coefficients, b))\n",
        "\n",
        "    meta_features = np.array(meta_features)\n",
        "    optimal_params = np.array(optimal_params)\n",
        "\n",
        "    X_train, X_val, y_train, y_val = train_test_split(meta_features, optimal_params, test_size=0.2, random_state=42)\n",
        "\n",
        "    rf_meta_learner = AdvancedMetaLearner(model_type='rf', n_features=n_features)\n",
        "    svr_meta_learner = AdvancedMetaLearner(model_type='svr', n_features=n_features)\n",
        "    rf_meta_learner.train(X_train, y_train)\n",
        "    svr_meta_learner.train(X_train, y_train)\n",
        "\n",
        "    X_test, y_test = X_full[:100], y_full[:100]\n",
        "    meta_dict = extract_meta_features_multi(X_test, y_test)\n",
        "    combined_features = [\n",
        "        val for feature_num in range(n_features)\n",
        "        for val in meta_dict.loc[meta_dict['Feature'] == f'X{feature_num}'].iloc[:, 1:].values.flatten()\n",
        "    ]\n",
        "    test_meta_features = np.array(combined_features)\n",
        "\n",
        "    predictions_rf = rf_meta_learner.predict(test_meta_features)\n",
        "    predictions_svr = svr_meta_learner.predict(test_meta_features)\n",
        "\n",
        "    return X_test, y_test, predictions_rf[:-1], predictions_rf[-1], predictions_svr[:-1], predictions_svr[-1]\n"
      ]
    },
    {
      "cell_type": "markdown",
      "id": "2fc0ddbb",
      "metadata": {
        "id": "2fc0ddbb"
      },
      "source": [
        "### Entraînement linéaire par descente de gradient"
      ]
    },
    {
      "cell_type": "code",
      "execution_count": 6,
      "id": "612f42d2",
      "metadata": {
        "id": "612f42d2"
      },
      "outputs": [],
      "source": [
        "\n",
        "def train_linear_regression(X, y, coefficients_init, b_init, epochs=500, learning_rate=0.0001):\n",
        "    X = (X - np.mean(X, axis=0)) / (np.std(X, axis=0) + 1e-8)  # Standardiser les données\n",
        "    coefficients = coefficients_init.copy()\n",
        "    b = b_init\n",
        "    losses = []\n",
        "    for _ in range(epochs):\n",
        "        y_pred = np.dot(X, coefficients) + b\n",
        "        loss = np.mean((y - y_pred)**2)\n",
        "        losses.append(loss)\n",
        "        D_coefficients = -2 * np.mean(X * (y - y_pred)[:, np.newaxis], axis=0)\n",
        "        Db = -2 * np.mean(y - y_pred)\n",
        "        coefficients -= learning_rate * D_coefficients\n",
        "        b -= learning_rate * Db\n",
        "    return coefficients, b, losses\n"
      ]
    },
    {
      "cell_type": "markdown",
      "id": "59a8480d",
      "metadata": {
        "id": "59a8480d"
      },
      "source": [
        "### Comparaison des approches"
      ]
    },
    {
      "cell_type": "code",
      "execution_count": 7,
      "id": "dc0d2866",
      "metadata": {
        "colab": {
          "base_uri": "https://localhost:8080/",
          "height": 1000
        },
        "id": "dc0d2866",
        "outputId": "cda084d7-acf7-47da-8a5e-2089ec232ebc"
      },
      "outputs": [
        {
          "output_type": "stream",
          "name": "stdout",
          "text": [
            "=== Initialisations ===\n",
            "\n",
            "Initialisation aléatoire :\n",
            "Coefficients initiaux : [0.44757578 0.16210231 0.50630844 0.06465471 0.62497055 0.00964553]\n",
            "Biais initial : 0.11881216472302203\n",
            "\n",
            "Initialisation par Random Forest :\n",
            "Coefficients initiaux : [1.2260849346252232, 0.9583717913074756, 1.4695696800046867, 0.9396425809791886, 1.1277150011618062, 1.3630222280697037]\n",
            "Biais initial : 1.332367456242979\n",
            "\n",
            "Initialisation par SVR :\n",
            "Coefficients initiaux : [1.3279679415843346, 0.9444851895707387, 1.597600259862928, 0.8852908124922372, 1.110095190818855, 1.2212597522069972]\n",
            "Biais initial : 1.408922171372112\n",
            "\n",
            "=== Résultats après descente de gradient ===\n",
            "\n",
            "Résultats avec initialisation aléatoire :\n",
            "Coefficients finaux : [ 0.3696867   0.20097148  0.37994699 -0.03978678  0.99186814  0.57028324]\n",
            "Biais final : 1.9744579608024948\n",
            "\n",
            "Résultats avec initialisation par Random Forest :\n",
            "Coefficients finaux : [1.07438996 0.95266303 1.2078109  0.68481808 1.37479513 1.79562672]\n",
            "Biais final : 3.072517215313526\n",
            "\n",
            "Résultats avec initialisation par SVR :\n",
            "Coefficients finaux : [1.16579396 0.94299167 1.32687711 0.62429614 1.3634273  1.66856211]\n",
            "Biais final : 3.1417860933048316\n"
          ]
        },
        {
          "output_type": "display_data",
          "data": {
            "text/plain": [
              "<Figure size 1000x600 with 1 Axes>"
            ],
            "image/png": "[encoded data removed]"
          },
          "metadata": {}
        }
      ],
      "source": [
        "# Comparaison des approches\n",
        "X_test, y_test, a_rf, b_rf, a_svr, b_svr = evaluate_meta_learning_system()\n",
        "\n",
        "# Initialisation aléatoire\n",
        "random_coefficients = np.random.rand(X_test.shape[1])\n",
        "random_bias = np.random.rand()\n",
        "\n",
        "print(\"=== Initialisations ===\")\n",
        "print(\"\\nInitialisation aléatoire :\")\n",
        "print(\"Coefficients initiaux :\", random_coefficients)\n",
        "print(\"Biais initial :\", random_bias)\n",
        "\n",
        "print(\"\\nInitialisation par Random Forest :\")\n",
        "print(\"Coefficients initiaux :\", a_rf)\n",
        "print(\"Biais initial :\", b_rf)\n",
        "\n",
        "print(\"\\nInitialisation par SVR :\")\n",
        "print(\"Coefficients initiaux :\", a_svr)\n",
        "print(\"Biais initial :\", b_svr)\n",
        "\n",
        "# Entraînement avec descente de gradient\n",
        "coeff_rf, bias_rf, losses_rf = train_linear_regression(X_test, y_test, a_rf, b_rf)\n",
        "coeff_svr, bias_svr, losses_svr = train_linear_regression(X_test, y_test, a_svr, b_svr)\n",
        "coeff_rand, bias_rand, losses_rand = train_linear_regression(X_test, y_test, random_coefficients, random_bias)\n",
        "\n",
        "# Résultats finaux\n",
        "print(\"\\n=== Résultats après descente de gradient ===\")\n",
        "print(\"\\nRésultats avec initialisation aléatoire :\")\n",
        "print(\"Coefficients finaux :\", coeff_rand)\n",
        "print(\"Biais final :\", bias_rand)\n",
        "\n",
        "print(\"\\nRésultats avec initialisation par Random Forest :\")\n",
        "print(\"Coefficients finaux :\", coeff_rf)\n",
        "print(\"Biais final :\", bias_rf)\n",
        "\n",
        "print(\"\\nRésultats avec initialisation par SVR :\")\n",
        "print(\"Coefficients finaux :\", coeff_svr)\n",
        "print(\"Biais final :\", bias_svr)\n",
        "\n",
        "# Courbes de convergence\n",
        "plt.figure(figsize=(10, 6))\n",
        "plt.plot(losses_rf, label=\"Random Forest\")\n",
        "plt.plot(losses_svr, label=\"SVR\")\n",
        "plt.plot(losses_rand, label=\"Aléatoire\", linewidth=2)\n",
        "plt.xlabel(\"Epochs\")\n",
        "plt.ylabel(\"Loss\")\n",
        "plt.legend()\n",
        "plt.title(\"Convergence des approches\")\n",
        "plt.show()"
      ]
    }
  ],
  "metadata": {
    "colab": {
      "provenance": [],
      "gpuType": "V28"
    },
    "accelerator": "TPU",
    "language_info": {
      "name": "python"
    },
    "kernelspec": {
      "name": "python3",
      "display_name": "Python 3"
    }
  },
  "nbformat": 4,
  "nbformat_minor": 5
}