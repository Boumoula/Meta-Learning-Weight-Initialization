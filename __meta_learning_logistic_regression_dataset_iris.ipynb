{
  "cells": [
    {
      "cell_type": "markdown",
      "id": "626f60bb",
      "metadata": {
        "id": "626f60bb"
      },
      "source": [
        "### Imports et Configuration Initiale"
      ]
    },
    {
      "cell_type": "code",
      "execution_count": 1,
      "id": "b4fff34c",
      "metadata": {
        "id": "b4fff34c"
      },
      "outputs": [],
      "source": [
        "\n",
        "import numpy as np\n",
        "import pandas as pd\n",
        "import seaborn as sns\n",
        "from sklearn.ensemble import RandomForestClassifier\n",
        "from sklearn.svm import SVC\n",
        "from sklearn.preprocessing import StandardScaler, LabelEncoder\n",
        "from sklearn.model_selection import train_test_split\n",
        "from sklearn.datasets import load_iris\n",
        "import matplotlib.pyplot as plt\n"
      ]
    },
    {
      "cell_type": "markdown",
      "id": "c3b6d847",
      "metadata": {
        "id": "c3b6d847"
      },
      "source": [
        "### Préparation des Données"
      ]
    },
    {
      "cell_type": "code",
      "execution_count": 2,
      "id": "9684df32",
      "metadata": {
        "id": "9684df32"
      },
      "outputs": [],
      "source": [
        "\n",
        "def prepare_iris_dataset():\n",
        "    iris = load_iris()\n",
        "    X = iris.data\n",
        "    y = iris.target\n",
        "    return X, y\n"
      ]
    },
    {
      "cell_type": "markdown",
      "id": "cee570ad",
      "metadata": {
        "id": "cee570ad"
      },
      "source": [
        "### Extraction des Méta-Caractéristiques"
      ]
    },
    {
      "cell_type": "code",
      "execution_count": 3,
      "id": "46f038bc",
      "metadata": {
        "id": "46f038bc"
      },
      "outputs": [],
      "source": [
        "\n",
        "def extract_meta_features_multi(X, y):\n",
        "    meta_features = []\n",
        "    for i in range(X.shape[1]):\n",
        "        x_col = X[:, i]\n",
        "        std_val = np.std(x_col)\n",
        "\n",
        "        # Gestion des valeurs constantes\n",
        "        if std_val == 0:\n",
        "            skewness = 0\n",
        "        else:\n",
        "            skewness = np.mean(((x_col - np.mean(x_col)) / std_val)**3)\n",
        "\n",
        "        meta_features.append({\n",
        "            'Feature': f'X{i}',\n",
        "            'mean': np.mean(x_col),\n",
        "            'std': std_val,\n",
        "            'range': np.max(x_col) - np.min(x_col),\n",
        "            'skew': skewness,\n",
        "            'class_separation': np.var([np.mean(x_col[y == c]) for c in np.unique(y)])\n",
        "        })\n",
        "\n",
        "    return pd.DataFrame(meta_features)\n"
      ]
    },
    {
      "cell_type": "markdown",
      "id": "883b7630",
      "metadata": {
        "id": "883b7630"
      },
      "source": [
        "### Classe AdvancedMetaLearner"
      ]
    },
    {
      "cell_type": "code",
      "execution_count": 4,
      "id": "c1827237",
      "metadata": {
        "id": "c1827237"
      },
      "outputs": [],
      "source": [
        "\n",
        "class AdvancedMetaLearner:\n",
        "    def __init__(self, model_type='rf', n_features=4):\n",
        "        self.model_type = model_type\n",
        "        self.n_features = n_features\n",
        "        self.scaler = StandardScaler()\n",
        "        if model_type == 'rf':\n",
        "            self.model = RandomForestClassifier(n_estimators=100, max_depth=10)\n",
        "        elif model_type == 'svc':\n",
        "            self.model = SVC(kernel='rbf', C=1.0, probability=True)\n",
        "\n",
        "    def train(self, meta_features, optimal_params):\n",
        "        meta_features = np.nan_to_num(meta_features)\n",
        "        X_scaled = self.scaler.fit_transform(meta_features)\n",
        "        self.model.fit(X_scaled, optimal_params)\n",
        "\n",
        "    def predict(self, meta_features):\n",
        "        meta_features = np.nan_to_num(meta_features)\n",
        "        X_scaled = self.scaler.transform(meta_features.reshape(1, -1))\n",
        "        return self.model.predict_proba(X_scaled)[0]\n"
      ]
    },
    {
      "cell_type": "markdown",
      "id": "fe8c2235",
      "metadata": {
        "id": "fe8c2235"
      },
      "source": [
        "### Évaluation du Système de Méta-Apprentissage"
      ]
    },
    {
      "cell_type": "code",
      "execution_count": 5,
      "id": "06aee061",
      "metadata": {
        "id": "06aee061"
      },
      "outputs": [],
      "source": [
        "\n",
        "def evaluate_meta_learning_system():\n",
        "    X_full, y_full = prepare_iris_dataset()\n",
        "    n_features = X_full.shape[1]\n",
        "\n",
        "    meta_features = []\n",
        "    optimal_params = []\n",
        "    n_samples = len(X_full)\n",
        "    subset_size = n_samples // 5  # Diviser en 5 sous-ensembles\n",
        "\n",
        "    for i in range(0, n_samples, subset_size):\n",
        "        X_subset = X_full[i:i+subset_size]\n",
        "        y_subset = y_full[i:i+subset_size]\n",
        "\n",
        "        meta = extract_meta_features_multi(X_subset, y_subset)\n",
        "        meta_values = meta.iloc[:, 1:].values.flatten()\n",
        "\n",
        "        if not np.any(np.isnan(meta_values)):\n",
        "            meta_features.append(meta_values)\n",
        "            optimal_params.append(np.argmax(np.bincount(y_subset)))\n",
        "\n",
        "    meta_features = np.array(meta_features)\n",
        "    optimal_params = np.array(optimal_params)\n",
        "\n",
        "    X_train, X_val, y_train, y_val = train_test_split(meta_features, optimal_params, test_size=0.2, random_state=42)\n",
        "\n",
        "    rf_meta_learner = AdvancedMetaLearner(model_type='rf', n_features=n_features)\n",
        "    svc_meta_learner = AdvancedMetaLearner(model_type='svc', n_features=n_features)\n",
        "    rf_meta_learner.train(X_train, y_train)\n",
        "    svc_meta_learner.train(X_train, y_train)\n",
        "\n",
        "    X_test, y_test = X_full[:30], y_full[:30]\n",
        "    meta_dict = extract_meta_features_multi(X_test, y_test)\n",
        "    test_meta_features = meta_dict.iloc[:, 1:].values.flatten()\n",
        "\n",
        "    predictions_rf = rf_meta_learner.predict(test_meta_features)\n",
        "    predictions_svc = svc_meta_learner.predict(test_meta_features)\n",
        "\n",
        "    return X_test, y_test, predictions_rf, predictions_svc\n"
      ]
    },
    {
      "cell_type": "markdown",
      "id": "251881b7",
      "metadata": {
        "id": "251881b7"
      },
      "source": [
        "### Classification avec Descente de Gradient (Softmax)"
      ]
    },
    {
      "cell_type": "code",
      "execution_count": 6,
      "id": "f752627b",
      "metadata": {
        "id": "f752627b"
      },
      "outputs": [],
      "source": [
        "\n",
        "def train_softmax_classifier(X, y, W_init, epochs=500, learning_rate=0.01):\n",
        "    W = W_init.copy()\n",
        "    n_classes = len(np.unique(y))\n",
        "    losses = []\n",
        "\n",
        "    y_one_hot = np.eye(n_classes)[y]\n",
        "\n",
        "    for i in range(epochs):\n",
        "        scores = np.dot(X, W)\n",
        "        exp_scores = np.exp(scores)\n",
        "        probs = exp_scores / np.sum(exp_scores, axis=1, keepdims=True)\n",
        "\n",
        "        loss = -np.mean(np.sum(y_one_hot * np.log(probs + 1e-10), axis=1))\n",
        "        losses.append(loss)\n",
        "\n",
        "        dW = np.dot(X.T, (probs - y_one_hot)) / len(X)\n",
        "        W = W - learning_rate * dW\n",
        "\n",
        "    return W, losses\n"
      ]
    },
    {
      "cell_type": "markdown",
      "id": "fdad8180",
      "metadata": {
        "id": "fdad8180"
      },
      "source": [
        "### Comparaison des Approches"
      ]
    },
    {
      "cell_type": "code",
      "execution_count": 7,
      "id": "df5d558a",
      "metadata": {
        "colab": {
          "base_uri": "https://localhost:8080/",
          "height": 1000
        },
        "id": "df5d558a",
        "outputId": "38d10a29-dc11-47f3-a409-4c82245df737"
      },
      "outputs": [
        {
          "output_type": "stream",
          "name": "stdout",
          "text": [
            "=== Initialisations ===\n",
            "\n",
            "Initialisation aléatoire :\n",
            "Poids initiaux : [[-6.79696223e-03]\n",
            " [ 9.84628066e-05]\n",
            " [-3.85911200e-03]\n",
            " [ 3.81344647e-03]]\n",
            "\n",
            "Initialisation par Random Forest :\n",
            "Poids initiaux : [[0.7  0.21 0.09]\n",
            " [0.7  0.21 0.09]\n",
            " [0.7  0.21 0.09]\n",
            " [0.7  0.21 0.09]]\n",
            "\n",
            "Initialisation par SVC :\n",
            "Poids initiaux : [[0.12052343 0.36188243 0.51759414]\n",
            " [0.12052343 0.36188243 0.51759414]\n",
            " [0.12052343 0.36188243 0.51759414]\n",
            " [0.12052343 0.36188243 0.51759414]]\n",
            "\n",
            "=== Résultats après descente de gradient ===\n",
            "\n",
            "Poids finaux avec initialisation aléatoire :\n",
            "[[-6.79696223e-03]\n",
            " [ 9.84628066e-05]\n",
            " [-3.85911200e-03]\n",
            " [ 3.81344647e-03]]\n",
            "\n",
            "Poids finaux avec initialisation par Random Forest :\n",
            "[[16.982512   17.12467201 17.15948266]\n",
            " [11.87203551 11.82036649 11.807598  ]\n",
            " [ 5.45968284  5.1721541   5.10149639]\n",
            " [ 1.4927674   1.04221407  0.93168519]]\n",
            "\n",
            "Poids finaux avec initialisation par SVC :\n",
            "[[17.15057487 17.08060054 17.03549126]\n",
            " [11.81081321 11.83641374 11.85277306]\n",
            " [ 5.11942571  5.26128526  5.35262236]\n",
            " [ 0.95977559  1.18190382  1.32498725]]\n",
            "\n",
            "=== Accuracy sur l'ensemble de test ===\n",
            "Accuracy avec initialisation aléatoire: 1.0000\n",
            "Accuracy avec initialisation RF: 0.4333\n",
            "Accuracy avec initialisation SVC: 0.5667\n"
          ]
        },
        {
          "output_type": "display_data",
          "data": {
            "text/plain": [
              "<Figure size 1000x600 with 1 Axes>"
            ],
            "image/png": "[encoded data removed]"
          },
          "metadata": {}
        }
      ],
      "source": [
        "# Comparaison des approches\n",
        "X_test, y_test, pred_rf, pred_svc = evaluate_meta_learning_system()\n",
        "\n",
        "# Initialisation des poids\n",
        "n_features = X_test.shape[1]\n",
        "n_classes = len(np.unique(y_test))\n",
        "\n",
        "# Initialisation des matrices de poids avec répétition des prédictions\n",
        "W_rf = np.tile(pred_rf, (n_features, 1))  # Répète les prédictions pour chaque feature\n",
        "W_svc = np.tile(pred_svc, (n_features, 1))  # Répète les prédictions pour chaque feature\n",
        "W_random = np.random.randn(n_features, n_classes) * 0.01  # Petite initialisation aléatoire\n",
        "\n",
        "print(\"=== Initialisations ===\")\n",
        "print(\"\\nInitialisation aléatoire :\")\n",
        "print(\"Poids initiaux :\", W_random)\n",
        "\n",
        "print(\"\\nInitialisation par Random Forest :\")\n",
        "print(\"Poids initiaux :\", W_rf)\n",
        "\n",
        "print(\"\\nInitialisation par SVC :\")\n",
        "print(\"Poids initiaux :\", W_svc)\n",
        "\n",
        "# Entraînement avec descente de gradient\n",
        "W_rf_final, losses_rf = train_softmax_classifier(X_test, y_test, W_rf)\n",
        "W_svc_final, losses_svc = train_softmax_classifier(X_test, y_test, W_svc)\n",
        "W_rand_final, losses_rand = train_softmax_classifier(X_test, y_test, W_random)\n",
        "\n",
        "# Résultats finaux\n",
        "print(\"\\n=== Résultats après descente de gradient ===\")\n",
        "print(\"\\nPoids finaux avec initialisation aléatoire :\")\n",
        "print(W_rand_final)\n",
        "\n",
        "print(\"\\nPoids finaux avec initialisation par Random Forest :\")\n",
        "print(W_rf_final)\n",
        "\n",
        "print(\"\\nPoids finaux avec initialisation par SVC :\")\n",
        "print(W_svc_final)\n",
        "\n",
        "# Évaluation des performances finales\n",
        "def evaluate_accuracy(X, y, W):\n",
        "    scores = np.dot(X, W)\n",
        "    predicted_classes = np.argmax(scores, axis=1)\n",
        "    accuracy = np.mean(predicted_classes == y)\n",
        "    return accuracy\n",
        "\n",
        "print(\"\\n=== Accuracy sur l'ensemble de test ===\")\n",
        "print(f\"Accuracy avec initialisation aléatoire: {evaluate_accuracy(X_test, y_test, W_rand_final):.4f}\")\n",
        "print(f\"Accuracy avec initialisation RF: {evaluate_accuracy(X_test, y_test, W_rf_final):.4f}\")\n",
        "print(f\"Accuracy avec initialisation SVC: {evaluate_accuracy(X_test, y_test, W_svc_final):.4f}\")\n",
        "\n",
        "# Courbes de convergence\n",
        "plt.figure(figsize=(10, 6))\n",
        "plt.plot(losses_rf, label=\"Random Forest\")\n",
        "plt.plot(losses_svc, label=\"SVC\")\n",
        "plt.plot(losses_rand, label=\"Aléatoire\", linewidth=2)\n",
        "plt.xlabel(\"Epochs\")\n",
        "plt.ylabel(\"Loss\")\n",
        "plt.legend()\n",
        "plt.title(\"Convergence des approches\")\n",
        "plt.show()"
      ]
    }
  ],
  "metadata": {
    "colab": {
      "provenance": [],
      "gpuType": "V28"
    },
    "accelerator": "TPU",
    "language_info": {
      "name": "python"
    },
    "kernelspec": {
      "name": "python3",
      "display_name": "Python 3"
    }
  },
  "nbformat": 4,
  "nbformat_minor": 5
}